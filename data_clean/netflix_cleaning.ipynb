{
 "cells": [
  {
   "cell_type": "code",
   "execution_count": 2,
   "id": "7d82210c-91f9-4e3a-bc59-b91c0ec30173",
   "metadata": {},
   "outputs": [],
   "source": [
    "import pandas as pd \n",
    "import numpy as np"
   ]
  },
  {
   "cell_type": "code",
   "execution_count": 48,
   "id": "d2426529-15d8-435b-b12c-df25e09cdd75",
   "metadata": {},
   "outputs": [],
   "source": [
    "df= pd.read_csv(\"C:\\\\Data Analyst Projects\\\\Netflix_Analysis\\\\netflix_titles.csv\")"
   ]
  },
  {
   "cell_type": "code",
   "execution_count": 49,
   "id": "c8242325-6203-4ba0-8576-b8a22de626a1",
   "metadata": {},
   "outputs": [
    {
     "data": {
      "text/plain": [
       "show_id            0\n",
       "type               0\n",
       "title              0\n",
       "director        2634\n",
       "cast             825\n",
       "country          831\n",
       "date_added        10\n",
       "release_year       0\n",
       "rating             4\n",
       "duration           3\n",
       "listed_in          0\n",
       "description        0\n",
       "dtype: int64"
      ]
     },
     "execution_count": 49,
     "metadata": {},
     "output_type": "execute_result"
    }
   ],
   "source": [
    "df.isna().sum()"
   ]
  },
  {
   "cell_type": "code",
   "execution_count": 50,
   "id": "39203792-2b42-44b8-816b-f81f425b7c9f",
   "metadata": {},
   "outputs": [
    {
     "name": "stdout",
     "output_type": "stream",
     "text": [
      "<class 'pandas.core.frame.DataFrame'>\n",
      "RangeIndex: 8807 entries, 0 to 8806\n",
      "Data columns (total 12 columns):\n",
      " #   Column        Non-Null Count  Dtype \n",
      "---  ------        --------------  ----- \n",
      " 0   show_id       8807 non-null   object\n",
      " 1   type          8807 non-null   object\n",
      " 2   title         8807 non-null   object\n",
      " 3   director      6173 non-null   object\n",
      " 4   cast          7982 non-null   object\n",
      " 5   country       7976 non-null   object\n",
      " 6   date_added    8797 non-null   object\n",
      " 7   release_year  8807 non-null   int64 \n",
      " 8   rating        8803 non-null   object\n",
      " 9   duration      8804 non-null   object\n",
      " 10  listed_in     8807 non-null   object\n",
      " 11  description   8807 non-null   object\n",
      "dtypes: int64(1), object(11)\n",
      "memory usage: 825.8+ KB\n"
     ]
    }
   ],
   "source": [
    "df.info()"
   ]
  },
  {
   "cell_type": "markdown",
   "id": "e2154279-c186-4497-9ba7-1f9d1deec6a6",
   "metadata": {},
   "source": [
    "# Rating"
   ]
  },
  {
   "cell_type": "code",
   "execution_count": 51,
   "id": "780be9d8-cad0-4448-b72d-5ffad5e1d1b0",
   "metadata": {},
   "outputs": [],
   "source": [
    "unq = df['rating'].unique()"
   ]
  },
  {
   "cell_type": "code",
   "execution_count": 52,
   "id": "959c6df4-6b39-430f-a6a9-e8eb870d2224",
   "metadata": {},
   "outputs": [
    {
     "data": {
      "text/plain": [
       "array(['PG-13', 'TV-MA', 'PG', 'TV-14', 'TV-PG', 'TV-Y', 'TV-Y7', 'R',\n",
       "       'TV-G', 'G', 'NC-17', '74 min', '84 min', '66 min', 'NR', nan,\n",
       "       'TV-Y7-FV', 'UR'], dtype=object)"
      ]
     },
     "execution_count": 52,
     "metadata": {},
     "output_type": "execute_result"
    }
   ],
   "source": [
    "unq"
   ]
  },
  {
   "cell_type": "code",
   "execution_count": 53,
   "id": "89fc80cc-7d2d-4d08-a3b3-e476e432dd2c",
   "metadata": {},
   "outputs": [],
   "source": [
    "df['rating']= df['rating'].replace(['74 min','84 min', '66 min'],np.nan)\n",
    "df['rating'] = df['rating'].fillna('NR')"
   ]
  },
  {
   "cell_type": "code",
   "execution_count": 89,
   "id": "0ddadbcf-86b5-4461-85e2-17a02617028e",
   "metadata": {},
   "outputs": [
    {
     "data": {
      "text/html": [
       "<div>\n",
       "<style scoped>\n",
       "    .dataframe tbody tr th:only-of-type {\n",
       "        vertical-align: middle;\n",
       "    }\n",
       "\n",
       "    .dataframe tbody tr th {\n",
       "        vertical-align: top;\n",
       "    }\n",
       "\n",
       "    .dataframe thead th {\n",
       "        text-align: right;\n",
       "    }\n",
       "</style>\n",
       "<table border=\"1\" class=\"dataframe\">\n",
       "  <thead>\n",
       "    <tr style=\"text-align: right;\">\n",
       "      <th></th>\n",
       "      <th>show_id</th>\n",
       "      <th>type</th>\n",
       "      <th>title</th>\n",
       "      <th>director</th>\n",
       "      <th>cast</th>\n",
       "      <th>country</th>\n",
       "      <th>date_added</th>\n",
       "      <th>release_year</th>\n",
       "      <th>rating</th>\n",
       "      <th>duration</th>\n",
       "      <th>listed_in</th>\n",
       "      <th>description</th>\n",
       "      <th>minutes</th>\n",
       "      <th>seasons</th>\n",
       "      <th>is_movie</th>\n",
       "      <th>is_tv_show</th>\n",
       "      <th>genre_count</th>\n",
       "      <th>content_age</th>\n",
       "    </tr>\n",
       "  </thead>\n",
       "  <tbody>\n",
       "    <tr>\n",
       "      <th>0</th>\n",
       "      <td>s1</td>\n",
       "      <td>Movie</td>\n",
       "      <td>Dick Johnson Is Dead</td>\n",
       "      <td>Kirsten Johnson</td>\n",
       "      <td>Unknown</td>\n",
       "      <td>United States</td>\n",
       "      <td>September 25, 2021</td>\n",
       "      <td>2020</td>\n",
       "      <td>PG-13</td>\n",
       "      <td>90 min</td>\n",
       "      <td>Documentaries</td>\n",
       "      <td>As her father nears the end of his life, filmm...</td>\n",
       "      <td>90.0</td>\n",
       "      <td>0</td>\n",
       "      <td>1</td>\n",
       "      <td>0</td>\n",
       "      <td>1</td>\n",
       "      <td>5</td>\n",
       "    </tr>\n",
       "    <tr>\n",
       "      <th>1</th>\n",
       "      <td>s2</td>\n",
       "      <td>TV Show</td>\n",
       "      <td>Blood &amp; Water</td>\n",
       "      <td>Unknown</td>\n",
       "      <td>Ama Qamata, Khosi Ngema, Gail Mabalane, Thaban...</td>\n",
       "      <td>South Africa</td>\n",
       "      <td>September 24, 2021</td>\n",
       "      <td>2021</td>\n",
       "      <td>TV-MA</td>\n",
       "      <td>2 Seasons</td>\n",
       "      <td>International TV Shows, TV Dramas, TV Mysteries</td>\n",
       "      <td>After crossing paths at a party, a Cape Town t...</td>\n",
       "      <td>0</td>\n",
       "      <td>2.0</td>\n",
       "      <td>0</td>\n",
       "      <td>1</td>\n",
       "      <td>3</td>\n",
       "      <td>4</td>\n",
       "    </tr>\n",
       "    <tr>\n",
       "      <th>2</th>\n",
       "      <td>s3</td>\n",
       "      <td>TV Show</td>\n",
       "      <td>Ganglands</td>\n",
       "      <td>Julien Leclercq</td>\n",
       "      <td>Sami Bouajila, Tracy Gotoas, Samuel Jouy, Nabi...</td>\n",
       "      <td>Unknown</td>\n",
       "      <td>September 24, 2021</td>\n",
       "      <td>2021</td>\n",
       "      <td>TV-MA</td>\n",
       "      <td>1 Season</td>\n",
       "      <td>Crime TV Shows, International TV Shows, TV Act...</td>\n",
       "      <td>To protect his family from a powerful drug lor...</td>\n",
       "      <td>0</td>\n",
       "      <td>1.0</td>\n",
       "      <td>0</td>\n",
       "      <td>1</td>\n",
       "      <td>3</td>\n",
       "      <td>4</td>\n",
       "    </tr>\n",
       "  </tbody>\n",
       "</table>\n",
       "</div>"
      ],
      "text/plain": [
       "  show_id     type                 title         director  \\\n",
       "0      s1    Movie  Dick Johnson Is Dead  Kirsten Johnson   \n",
       "1      s2  TV Show         Blood & Water          Unknown   \n",
       "2      s3  TV Show             Ganglands  Julien Leclercq   \n",
       "\n",
       "                                                cast        country  \\\n",
       "0                                            Unknown  United States   \n",
       "1  Ama Qamata, Khosi Ngema, Gail Mabalane, Thaban...   South Africa   \n",
       "2  Sami Bouajila, Tracy Gotoas, Samuel Jouy, Nabi...        Unknown   \n",
       "\n",
       "           date_added  release_year rating   duration  \\\n",
       "0  September 25, 2021          2020  PG-13     90 min   \n",
       "1  September 24, 2021          2021  TV-MA  2 Seasons   \n",
       "2  September 24, 2021          2021  TV-MA   1 Season   \n",
       "\n",
       "                                           listed_in  \\\n",
       "0                                      Documentaries   \n",
       "1    International TV Shows, TV Dramas, TV Mysteries   \n",
       "2  Crime TV Shows, International TV Shows, TV Act...   \n",
       "\n",
       "                                         description minutes seasons  \\\n",
       "0  As her father nears the end of his life, filmm...    90.0       0   \n",
       "1  After crossing paths at a party, a Cape Town t...       0     2.0   \n",
       "2  To protect his family from a powerful drug lor...       0     1.0   \n",
       "\n",
       "   is_movie  is_tv_show  genre_count  content_age  \n",
       "0         1           0            1            5  \n",
       "1         0           1            3            4  \n",
       "2         0           1            3            4  "
      ]
     },
     "execution_count": 89,
     "metadata": {},
     "output_type": "execute_result"
    }
   ],
   "source": [
    "df.head(3)"
   ]
  },
  {
   "cell_type": "markdown",
   "id": "4034b87c-889a-4889-b1f0-6712c7cc17ff",
   "metadata": {},
   "source": [
    "# Country"
   ]
  },
  {
   "cell_type": "code",
   "execution_count": null,
   "id": "ef5a39f8-7023-489c-8cea-f31b9a9044d1",
   "metadata": {},
   "outputs": [],
   "source": [
    "unq=df['country'].unique()\n",
    "unq"
   ]
  },
  {
   "cell_type": "code",
   "execution_count": 56,
   "id": "4877b64a-b8aa-46a2-8860-dffbeb3d9222",
   "metadata": {},
   "outputs": [
    {
     "data": {
      "text/plain": [
       "country\n",
       "United States                                    2818\n",
       "India                                             972\n",
       "United Kingdom                                    419\n",
       "Japan                                             245\n",
       "South Korea                                       199\n",
       "                                                 ... \n",
       "Russia, Spain                                       1\n",
       "Croatia, Slovenia, Serbia, Montenegro               1\n",
       "Japan, Canada                                       1\n",
       "United States, France, South Korea, Indonesia       1\n",
       "United Arab Emirates, Jordan                        1\n",
       "Name: count, Length: 748, dtype: int64"
      ]
     },
     "execution_count": 56,
     "metadata": {},
     "output_type": "execute_result"
    }
   ],
   "source": [
    "con_states = df['country'].value_counts()\n",
    "con_states"
   ]
  },
  {
   "cell_type": "code",
   "execution_count": 57,
   "id": "0678cec1-e291-4613-b39f-2651802bd480",
   "metadata": {},
   "outputs": [],
   "source": [
    "country_replacements = {\n",
    "    # 🇺🇸 United States variations\n",
    "    'USA': 'United States',\n",
    "    'U.S.A': 'United States',\n",
    "    'US': 'United States',\n",
    "    'United States,': 'United States',\n",
    "    'United States of America': 'United States',\n",
    "\n",
    "    # 🇬🇧 United Kingdom variations\n",
    "    'UK': 'United Kingdom',\n",
    "    'U.K.': 'United Kingdom',\n",
    "    'England': 'United Kingdom',\n",
    "    'United Kingdom,': 'United Kingdom',\n",
    "    '  United Kingdom': 'United Kingdom',  # leading spaces fix\n",
    "\n",
    "    # 🇷🇺 Russia and related\n",
    "    'Soviet Union': 'Russia',\n",
    "    'Soviet Union, India': 'Russia, India',  # multi-country normalized\n",
    "    'India, Soviet Union': 'India, Russia',\n",
    "\n",
    "    # 🇩🇪 Germany (historical forms)\n",
    "    'West Germany': 'Germany',\n",
    "    'East Germany': 'Germany',\n",
    "\n",
    "    # 🇭🇰 Hong Kong\n",
    "    'Hong Kong, China': 'Hong Kong',\n",
    "    'Hong Kong SAR China': 'Hong Kong',\n",
    "\n",
    "    # 🇹🇼 Taiwan\n",
    "    'Taiwan, China': 'Taiwan',\n",
    "    'Republic of China (Taiwan)': 'Taiwan',\n",
    "\n",
    "    # 🇰🇷 / 🇰🇵 Korea\n",
    "    'Korea, South': 'South Korea',\n",
    "    'South Korea': 'South Korea',\n",
    "    'Korea, North': 'North Korea',\n",
    "    'North Korea': 'North Korea',\n",
    "    ', South Korea': 'South Korea',  # leading comma fix\n",
    "\n",
    "    # 🇮🇷 Iran\n",
    "    'Iran, Islamic Republic of': 'Iran',\n",
    "    'Islamic Republic of Iran': 'Iran',\n",
    "\n",
    "    # 🇦🇪 UAE\n",
    "    'United Arab Emirates,': 'United Arab Emirates',\n",
    "\n",
    "    # 🇫🇷 France\n",
    "    ', France, Algeria': 'France, Algeria',  # multi-country fix\n",
    "\n",
    "    # 🇵🇱 Poland\n",
    "    'Poland,': 'Poland',\n",
    "}\n"
   ]
  },
  {
   "cell_type": "code",
   "execution_count": 83,
   "id": "213359ce-a062-49fd-9782-b38bc4e7d6b1",
   "metadata": {},
   "outputs": [],
   "source": [
    "df['country'] = df['country'].replace(country_replacements)\n",
    "df['country']=df['country'].fillna('Unknown')\n",
    "df['country'] = df['country'].str.strip()"
   ]
  },
  {
   "cell_type": "code",
   "execution_count": 84,
   "id": "1d1f0c4c-33e3-4075-8850-a98d43f35831",
   "metadata": {},
   "outputs": [
    {
     "data": {
      "text/plain": [
       "np.int64(0)"
      ]
     },
     "execution_count": 84,
     "metadata": {},
     "output_type": "execute_result"
    }
   ],
   "source": [
    "df['country'].isna().sum()"
   ]
  },
  {
   "cell_type": "markdown",
   "id": "60d6aeaf-314f-4bb5-93ee-0ad9af866031",
   "metadata": {},
   "source": [
    "# Duration"
   ]
  },
  {
   "cell_type": "code",
   "execution_count": null,
   "id": "28aded09-4ce9-49af-a9dd-dfa165d8429c",
   "metadata": {},
   "outputs": [],
   "source": [
    "df['duration'].unique()"
   ]
  },
  {
   "cell_type": "code",
   "execution_count": 79,
   "id": "a06db577-bede-4645-ac49-221b3a14de59",
   "metadata": {},
   "outputs": [],
   "source": [
    "# Extract minutes\n",
    "df['minutes'] = df['duration'].str.extract(r'(\\d+)\\s*min').astype(float)\n",
    "\n",
    "# Extract seasons\n",
    "df['seasons'] = df['duration'].str.extract(r'(\\d+)\\s*Season').astype(float)"
   ]
  },
  {
   "cell_type": "code",
   "execution_count": 61,
   "id": "cdca69a4-ca1e-457d-b9d3-de9ecea92ee1",
   "metadata": {},
   "outputs": [],
   "source": [
    "df['duration'] = df['duration'].fillna('Unknown')"
   ]
  },
  {
   "cell_type": "code",
   "execution_count": 81,
   "id": "8e4f0ebc-dc3c-478d-98c7-131326739f8e",
   "metadata": {},
   "outputs": [],
   "source": [
    "df['minutes'] = df['minutes'].fillna('0')\n",
    "df['seasons'] = df['seasons'].fillna('0')"
   ]
  },
  {
   "cell_type": "code",
   "execution_count": 62,
   "id": "21c13d46-c7e4-499a-bf7f-45b53f594a4e",
   "metadata": {},
   "outputs": [
    {
     "data": {
      "text/plain": [
       "np.int64(0)"
      ]
     },
     "execution_count": 62,
     "metadata": {},
     "output_type": "execute_result"
    }
   ],
   "source": [
    "df['duration'].isna().sum()"
   ]
  },
  {
   "cell_type": "markdown",
   "id": "3fefac29-6528-46b8-9dc7-4f5c9e5aa2f3",
   "metadata": {
    "jp-MarkdownHeadingCollapsed": true
   },
   "source": [
    "# director and cast"
   ]
  },
  {
   "cell_type": "code",
   "execution_count": 66,
   "id": "8be647c2-3322-4aef-aacd-2a95309ff230",
   "metadata": {},
   "outputs": [
    {
     "data": {
      "text/plain": [
       "4529"
      ]
     },
     "execution_count": 66,
     "metadata": {},
     "output_type": "execute_result"
    }
   ],
   "source": [
    "df['director'].unique() "
   ]
  },
  {
   "cell_type": "code",
   "execution_count": 64,
   "id": "037788f5-19f0-40e4-a00a-033238f71593",
   "metadata": {},
   "outputs": [],
   "source": [
    "df['director']=df['director'].fillna('Unknown')"
   ]
  },
  {
   "cell_type": "code",
   "execution_count": 69,
   "id": "496cb451-25fb-4d8d-9ceb-f22a25bd901c",
   "metadata": {},
   "outputs": [
    {
     "data": {
      "text/plain": [
       "7693"
      ]
     },
     "execution_count": 69,
     "metadata": {},
     "output_type": "execute_result"
    }
   ],
   "source": [
    "df['cast'].nunique()"
   ]
  },
  {
   "cell_type": "code",
   "execution_count": 68,
   "id": "e301fea4-9bce-463d-9626-55861be61e8c",
   "metadata": {},
   "outputs": [],
   "source": [
    "df['cast']=df['cast'].fillna('Unknown')"
   ]
  },
  {
   "cell_type": "markdown",
   "id": "e5e1e91a-7ed8-4d73-9aa5-6c7ccb23ec46",
   "metadata": {},
   "source": [
    "# date added"
   ]
  },
  {
   "cell_type": "code",
   "execution_count": 77,
   "id": "20b06ebb-c93f-4cb8-b387-c9e0b6c8e8e7",
   "metadata": {},
   "outputs": [
    {
     "data": {
      "text/plain": [
       "array(['September 25, 2021', 'September 24, 2021', 'September 23, 2021',\n",
       "       ..., 'December 6, 2018', 'March 9, 2016', 'January 11, 2020'],\n",
       "      shape=(1768,), dtype=object)"
      ]
     },
     "execution_count": 77,
     "metadata": {},
     "output_type": "execute_result"
    }
   ],
   "source": [
    "df['date_added'].unique()"
   ]
  },
  {
   "cell_type": "code",
   "execution_count": 75,
   "id": "61e3753a-0e43-42de-b9ef-09b108ad1d44",
   "metadata": {},
   "outputs": [],
   "source": [
    "df['date_added']=df['date_added'].fillna('Unknown')"
   ]
  },
  {
   "cell_type": "markdown",
   "id": "ae6653eb-9261-4c43-bb92-d265f9095e66",
   "metadata": {},
   "source": [
    "# Listed in"
   ]
  },
  {
   "cell_type": "code",
   "execution_count": 90,
   "id": "453a941d-0c20-488e-beea-905054b1829a",
   "metadata": {},
   "outputs": [],
   "source": [
    "genre_df = (\n",
    "    df[['show_id', 'listed_in']]\n",
    "    .assign(listed_in = df['listed_in'].str.split(','))\n",
    "    .explode('listed_in')\n",
    ")\n",
    "genre_df['listed_in'] = genre_df['listed_in'].str.strip()\n",
    "genre_df.rename(columns={'listed_in': 'genre'}, inplace=True)"
   ]
  },
  {
   "cell_type": "markdown",
   "id": "44559ed2-81fb-4d1e-b248-a180854c20e3",
   "metadata": {},
   "source": [
    "# Overall"
   ]
  },
  {
   "cell_type": "code",
   "execution_count": 91,
   "id": "56473479-0a4f-4ff7-9eef-b8f41cd989be",
   "metadata": {},
   "outputs": [
    {
     "data": {
      "text/plain": [
       "show_id         0\n",
       "type            0\n",
       "title           0\n",
       "director        0\n",
       "cast            0\n",
       "country         0\n",
       "date_added      0\n",
       "release_year    0\n",
       "rating          0\n",
       "duration        0\n",
       "listed_in       0\n",
       "description     0\n",
       "minutes         0\n",
       "seasons         0\n",
       "is_movie        0\n",
       "is_tv_show      0\n",
       "genre_count     0\n",
       "content_age     0\n",
       "dtype: int64"
      ]
     },
     "execution_count": 91,
     "metadata": {},
     "output_type": "execute_result"
    }
   ],
   "source": [
    "df.isna().sum()"
   ]
  },
  {
   "cell_type": "code",
   "execution_count": 92,
   "id": "fd90b5a1-5b39-4786-ad7b-38c7c47cad94",
   "metadata": {},
   "outputs": [],
   "source": [
    "df['is_movie'] = np.where(df['type'] == 'Movie', 1, 0)\n",
    "df['is_tv_show'] = np.where(df['type'] == 'TV Show', 1, 0)\n",
    "df['genre_count'] = df['listed_in'].apply(lambda x: len(x.split(',')) if isinstance(x, str) else 0)\n",
    "df['content_age'] = 2025 - df['release_year']"
   ]
  },
  {
   "cell_type": "code",
   "execution_count": 94,
   "id": "c9863ac1-ace5-4432-bc0f-b56948eb0535",
   "metadata": {},
   "outputs": [
    {
     "data": {
      "text/plain": [
       "0       1\n",
       "1       3\n",
       "2       3\n",
       "3       2\n",
       "4       3\n",
       "       ..\n",
       "8802    3\n",
       "8803    3\n",
       "8804    2\n",
       "8805    2\n",
       "8806    3\n",
       "Name: genre_count, Length: 8807, dtype: int64"
      ]
     },
     "execution_count": 94,
     "metadata": {},
     "output_type": "execute_result"
    }
   ],
   "source": [
    "df['genre_count']"
   ]
  },
  {
   "cell_type": "code",
   "execution_count": 95,
   "id": "9e035c7a-2a35-4b0e-816a-f85d51706200",
   "metadata": {},
   "outputs": [],
   "source": [
    "df.to_csv('netflix_cleaned.csv', index=False)\n",
    "genre_df.to_csv('netflix_genres.csv', index=False)"
   ]
  },
  {
   "cell_type": "code",
   "execution_count": null,
   "id": "7b0e685e-3f2e-4458-8d71-81e830040531",
   "metadata": {},
   "outputs": [],
   "source": []
  }
 ],
 "metadata": {
  "kernelspec": {
   "display_name": "Python 3 (ipykernel)",
   "language": "python",
   "name": "python3"
  },
  "language_info": {
   "codemirror_mode": {
    "name": "ipython",
    "version": 3
   },
   "file_extension": ".py",
   "mimetype": "text/x-python",
   "name": "python",
   "nbconvert_exporter": "python",
   "pygments_lexer": "ipython3",
   "version": "3.13.2"
  }
 },
 "nbformat": 4,
 "nbformat_minor": 5
}
